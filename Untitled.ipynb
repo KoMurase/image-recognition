{
 "cells": [
  {
   "cell_type": "code",
   "execution_count": 4,
   "metadata": {},
   "outputs": [],
   "source": [
    "from PIL import Image\n",
    "import os,glob\n",
    "import numpy as np\n",
    "from sklearn import model_selection"
   ]
  },
  {
   "cell_type": "code",
   "execution_count": 7,
   "metadata": {},
   "outputs": [],
   "source": [
    "classes=[\"monkey\",\"boar\",\"crow\"]\n",
    "num_classes=len(classes)\n",
    "image_size=50\n",
    "\n",
    "#画像の読み込み\n",
    "\n",
    "X=[]\n",
    "Y=[]\n",
    "\n",
    "for index, classlabel in enumerate(classes):\n",
    "    photos_dir=\"./\"+ classlabel\n",
    "    files=glob.glob(photos_dir+\"/*.jpg\")\n",
    "    for i, file in enumerate(files):\n",
    "        if i>= 200: break\n",
    "        image=Image.open(file)\n",
    "        #open() は PIL.Image というモジュールのグローバル関数\n",
    "        image=image.convert(\"RGB\")\n",
    "        image=image.resize((image_size,image_size))\n",
    "        #convert や resize は Image.open() が返す画像オブジェクトが\n",
    "        #持つメソッドなので、image.convert(), image.resize() \n",
    "        #と呼び出します\n",
    "        data=np.asarray(image)\n",
    "        X.append(data)\n",
    "        Y.append(index)\n",
    "\n"
   ]
  },
  {
   "cell_type": "code",
   "execution_count": 9,
   "metadata": {},
   "outputs": [],
   "source": [
    "X=np.array(X)\n",
    "Y=np.array(Y)\n",
    "\n",
    "X_train,X_test,y_train,y_test=model_selection.train_test_split(X,Y)\n",
    "xy=(X_train,X_test,y_train,y_test)\n",
    "np.save(\"./animal.npy\",xy)"
   ]
  },
  {
   "cell_type": "code",
   "execution_count": null,
   "metadata": {},
   "outputs": [],
   "source": []
  }
 ],
 "metadata": {
  "kernelspec": {
   "display_name": "Python 3",
   "language": "python",
   "name": "python3"
  },
  "language_info": {
   "codemirror_mode": {
    "name": "ipython",
    "version": 3
   },
   "file_extension": ".py",
   "mimetype": "text/x-python",
   "name": "python",
   "nbconvert_exporter": "python",
   "pygments_lexer": "ipython3",
   "version": "3.7.1"
  }
 },
 "nbformat": 4,
 "nbformat_minor": 2
}
