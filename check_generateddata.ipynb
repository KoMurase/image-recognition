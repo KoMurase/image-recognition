{
 "cells": [
  {
   "cell_type": "code",
   "execution_count": 1,
   "metadata": {},
   "outputs": [],
   "source": [
    "from PIL import Image\n",
    "import os,glob\n",
    "import numpy as np\n",
    "from sklearn import model_selection\n",
    "classes=[\"monkey\",\"boar\",\"crow\"]\n",
    "num_classes=len(classes)\n",
    "image_size=50\n",
    "\n",
    "#画像の読み込み\n",
    "\n",
    "X=[]\n",
    "Y=[]\n",
    "\n",
    "for index, classlabel in enumerate(classes):\n",
    "    photos_dir=\"./\"+ classlabel\n",
    "    files=glob.glob(photos_dir+\"/*.jpg\")\n",
    "    for i, file in enumerate(files):\n",
    "        if i>= 200: break\n",
    "        image=Image.open(file)\n",
    "        #open() は PIL.Image というモジュールのグローバル関数\n",
    "        image=image.convert(\"RGB\")\n",
    "        image=image.resize((image_size,image_size))\n",
    "        #convert や resize は Image.open() が返す画像オブジェクトが\n",
    "        #持つメソッドなので、image.convert(), image.resize()\n",
    "        #と呼び出します\n",
    "        data=np.asarray(image)\n",
    "        X.append(data)\n",
    "        Y.append(index)\n",
    "X=np.array(X)\n",
    "Y=np.array(Y)\n",
    "\n",
    "X_train,X_test,y_train,y_test=model_selection.train_test_split(X,Y)\n",
    "xy=(X_train,X_test,y_train,y_test)\n",
    "np.save(\"./animal.npy\",xy)\n",
    "\n",
    "#activate tf140で実行\n"
   ]
  },
  {
   "cell_type": "code",
   "execution_count": 2,
   "metadata": {},
   "outputs": [
    {
     "data": {
      "text/plain": [
       "450"
      ]
     },
     "execution_count": 2,
     "metadata": {},
     "output_type": "execute_result"
    }
   ],
   "source": [
    "len(X_train)"
   ]
  },
  {
   "cell_type": "code",
   "execution_count": 3,
   "metadata": {},
   "outputs": [
    {
     "data": {
      "text/plain": [
       "150"
      ]
     },
     "execution_count": 3,
     "metadata": {},
     "output_type": "execute_result"
    }
   ],
   "source": [
    "len(X_test)"
   ]
  },
  {
   "cell_type": "code",
   "execution_count": 5,
   "metadata": {},
   "outputs": [
    {
     "data": {
      "text/plain": [
       "450"
      ]
     },
     "execution_count": 5,
     "metadata": {},
     "output_type": "execute_result"
    }
   ],
   "source": [
    "len(y_train)"
   ]
  },
  {
   "cell_type": "code",
   "execution_count": 6,
   "metadata": {},
   "outputs": [
    {
     "data": {
      "text/plain": [
       "150"
      ]
     },
     "execution_count": 6,
     "metadata": {},
     "output_type": "execute_result"
    }
   ],
   "source": [
    "len(y_test)"
   ]
  },
  {
   "cell_type": "code",
   "execution_count": 7,
   "metadata": {
    "scrolled": true
   },
   "outputs": [
    {
     "data": {
      "text/plain": [
       "array([[[244, 244, 244],\n",
       "        [245, 245, 245],\n",
       "        [245, 245, 245],\n",
       "        ...,\n",
       "        [241, 241, 241],\n",
       "        [240, 240, 240],\n",
       "        [240, 240, 240]],\n",
       "\n",
       "       [[244, 244, 244],\n",
       "        [246, 246, 246],\n",
       "        [246, 246, 246],\n",
       "        ...,\n",
       "        [242, 242, 242],\n",
       "        [241, 241, 241],\n",
       "        [241, 241, 241]],\n",
       "\n",
       "       [[245, 245, 245],\n",
       "        [246, 246, 246],\n",
       "        [246, 246, 246],\n",
       "        ...,\n",
       "        [242, 242, 242],\n",
       "        [241, 241, 241],\n",
       "        [241, 241, 241]],\n",
       "\n",
       "       ...,\n",
       "\n",
       "       [[232, 227, 224],\n",
       "        [228, 237, 232],\n",
       "        [227, 233, 231],\n",
       "        ...,\n",
       "        [233, 233, 231],\n",
       "        [233, 233, 233],\n",
       "        [229, 229, 229]],\n",
       "\n",
       "       [[239, 239, 239],\n",
       "        [240, 240, 240],\n",
       "        [238, 238, 238],\n",
       "        ...,\n",
       "        [227, 227, 227],\n",
       "        [225, 225, 225],\n",
       "        [229, 229, 229]],\n",
       "\n",
       "       [[234, 234, 234],\n",
       "        [238, 238, 238],\n",
       "        [238, 238, 238],\n",
       "        ...,\n",
       "        [228, 228, 228],\n",
       "        [224, 224, 224],\n",
       "        [228, 228, 228]]], dtype=uint8)"
      ]
     },
     "execution_count": 7,
     "metadata": {},
     "output_type": "execute_result"
    }
   ],
   "source": [
    "X_train[100]"
   ]
  },
  {
   "cell_type": "code",
   "execution_count": 8,
   "metadata": {},
   "outputs": [
    {
     "data": {
      "text/plain": [
       "0"
      ]
     },
     "execution_count": 8,
     "metadata": {},
     "output_type": "execute_result"
    }
   ],
   "source": [
    "y_train[100]\n",
    "#monkeyの画像だとわかる"
   ]
  },
  {
   "cell_type": "code",
   "execution_count": null,
   "metadata": {},
   "outputs": [],
   "source": []
  }
 ],
 "metadata": {
  "kernelspec": {
   "display_name": "Python 3",
   "language": "python",
   "name": "python3"
  },
  "language_info": {
   "codemirror_mode": {
    "name": "ipython",
    "version": 3
   },
   "file_extension": ".py",
   "mimetype": "text/x-python",
   "name": "python",
   "nbconvert_exporter": "python",
   "pygments_lexer": "ipython3",
   "version": "3.7.1"
  }
 },
 "nbformat": 4,
 "nbformat_minor": 2
}
